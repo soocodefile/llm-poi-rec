{
 "cells": [
  {
   "cell_type": "code",
   "execution_count": null,
   "id": "6384ce7e-d0ea-4ef0-992c-56316853337f",
   "metadata": {},
   "outputs": [],
   "source": [
    "def construct_prompt(self, dataset_name, user_his_text, candidate_text_order):\n",
    "        if dataset_name in ['ml-1m', 'ml-1m-full']:\n",
    "            prompt = f\"I've watched the following movies in the past in order:\\n{user_his_text}\\n\\n\" \\\n",
    "                    f\"Now there are {self.recall_budget} candidate movies that I can watch next:\\n{candidate_text_order}\\n\" \\\n",
    "                    f\"Please rank these {self.recall_budget} movies by measuring the possibilities that I would like to watch next most, according to my watching history. Please think step by step.\\n\" \\\n",
    "                    f\"Please show me your ranking results with order numbers. Split your output with line break. You MUST rank the given candidate movies. You can not generate movies that are not in the given candidate list.\"\n",
    "        elif dataset_name in ['Games', 'Games-6k']:\n",
    "            prompt = f\"I've purchased the following products in the past in order:\\n{user_his_text}\\n\\n\" \\\n",
    "                    f\"Now there are {self.recall_budget} candidate products that I can consider to purchase next:\\n{candidate_text_order}\\n\" \\\n",
    "                    f\"Please rank these {self.recall_budget} products by measuring the possibilities that I would like to purchase next most, according to the given purchasing records. Please think step by step.\\n\" \\\n",
    "                    f\"Please show me your ranking results with order numbers. Split your output with line break. You MUST rank the given candidate movies. You can not generate movies that are not in the given candidate list.\"\n",
    "                    # f\"Please only output the order numbers after ranking. Split these order numbers with line break.\"\n",
    "        else:\n",
    "            raise NotImplementedError(f'Unknown dataset [{dataset_name}].')\n",
    "        return prompt"
   ]
  }
 ],
 "metadata": {
  "kernelspec": {
   "display_name": "Python 3 (ipykernel)",
   "language": "python",
   "name": "python3"
  },
  "language_info": {
   "codemirror_mode": {
    "name": "ipython",
    "version": 3
   },
   "file_extension": ".py",
   "mimetype": "text/x-python",
   "name": "python",
   "nbconvert_exporter": "python",
   "pygments_lexer": "ipython3",
   "version": "3.12.1"
  }
 },
 "nbformat": 4,
 "nbformat_minor": 5
}
